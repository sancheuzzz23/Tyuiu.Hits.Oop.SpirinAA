{
 "cells": [
  {
   "cell_type": "markdown",
   "metadata": {},
   "source": [
    "<h1 style=\"color:DodgerBlue\">Индивидальный проект</h1>"
   ]
  },
  {
   "cell_type": "markdown",
   "metadata": {},
   "source": [
    "<h2 style=\"color:DodgerBlue\">Название проекта:</h2>\n",
    "\n",
    "----\n",
    "\n",
    "### Вариант задания №16\n"
   ]
  },
  {
   "cell_type": "markdown",
   "metadata": {},
   "source": [
    "<h2 style=\"color:DodgerBlue\">Описание проекта:</h2>\n",
    "\n",
    "----\n",
    "\n",
    "Описание задачи: Создать базовый класс PaymentMethod в C#, который будет представлять различные способы оплаты. На основе этого класса разработать 2-3 производных класса, демонстрирующих принципы наследования и полиморфизма. В каждом из классов должны быть реализованы новые атрибуты и методы, а также переопределены некоторые методы базового класса для демонстрации полиморфизма.\n",
    "\n",
    "Требования к базовому классу PaymentMethod:\n",
    "\n",
    "• Атрибуты: ID способа оплаты (PaymentMethodId), Название способа оплаты (MethodName), Минимальная сумма (MinAmount).\n",
    "\n",
    "• Методы: o ProcessPayment(decimal amount): метод для обработки платежа указанной суммы. o CheckMinimumAmount(decimal amount): метод для проверки минимальной суммы платежа. o GetPaymentDetails(): метод для получения деталей способа оплаты.\n",
    "\n",
    "Требования к производным классам:\n",
    "\n",
    "1) ОнлайнОплата (OnlinePayment): Должен содержать дополнительные атрибуты, такие как URL платежной системы (PaymentUrl). Метод ProcessPayment() должен быть переопределен для включения URL платежной системы в процесс оплаты.\n",
    "2) БанковскийПеревод (BankTransfer): Должен содержать дополнительные атрибуты, такие как Банковские данные (BankData). Метод CheckMinimumAmount() должен быть переопределен для проверки минимальной суммы платежа с учетом банковских комиссий.\n",
    "3) Наличные (CashPayment) (если требуется третий класс): Должен содержать дополнительные атрибуты, такие как Место выдачи наличных (CashPickupPoint). Метод GetPaymentDetails() должен быть переопределен для отображения места выдачи наличных.\n",
    "\n",
    "#### Дополнительное задание\n",
    "Добавьте к сущестующим классам конструктора классов с использованием гетторов и сетторов и реализуйте взаимодействие объектов между собой"
   ]
  },
  {
   "cell_type": "markdown",
   "metadata": {},
   "source": [
    "<h2 style=\"color:DodgerBlue\">Реализация:</h2>\n",
    "\n",
    "----"
   ]
  },
  {
   "cell_type": "code",
   "execution_count": 1,
   "metadata": {
    "dotnet_interactive": {
     "language": "csharp"
    },
    "polyglot_notebook": {
     "kernelName": "csharp"
    }
   },
   "outputs": [
    {
     "name": "stdout",
     "output_type": "stream",
     "text": [
      "Обработка платежа методом Онлайн оплата на сумму 200\n",
      "Перенаправление на платежную страницу: https://example.payment.com\n",
      "Способ оплаты: Онлайн оплата, Минимальная сумма: 150\n",
      "Обработка платежа методом Банковский перевод на сумму 550\n",
      "Способ оплаты: Банковский перевод, Минимальная сумма: 250, Банковские данные: Реквизиты: 0987654321, Комиссия: 10\n"
     ]
    }
   ],
   "source": [
    "using System;\n",
    "\n",
    "// Базовый класс PaymentMethod\n",
    "public class PaymentMethod\n",
    "{\n",
    "    private int _paymentMethodId;\n",
    "    private string _methodName;\n",
    "    private decimal _minAmount;\n",
    "\n",
    "    public int PaymentMethodId \n",
    "    { \n",
    "        get { return _paymentMethodId; } \n",
    "        set { _paymentMethodId = value; } \n",
    "    }\n",
    "\n",
    "    public string MethodName \n",
    "    { \n",
    "        get { return _methodName; } \n",
    "        set { _methodName = value; } \n",
    "    }\n",
    "\n",
    "    public decimal MinAmount \n",
    "    { \n",
    "        get { return _minAmount; } \n",
    "        set { _minAmount = value; } \n",
    "    }\n",
    "\n",
    "    public PaymentMethod(int paymentMethodId, string methodName, decimal minAmount)\n",
    "    {\n",
    "        PaymentMethodId = paymentMethodId;\n",
    "        MethodName = methodName;\n",
    "        MinAmount = minAmount;\n",
    "    }\n",
    "\n",
    "    // Метод для обработки платежа\n",
    "    public virtual void ProcessPayment(decimal amount)\n",
    "    {\n",
    "        // Логика обработки платежа\n",
    "        Console.WriteLine($\"Обработка платежа методом {MethodName} на сумму {amount}\");\n",
    "    }\n",
    "\n",
    "    // Метод для проверки минимальной суммы платежа\n",
    "    public virtual bool CheckMinimumAmount(decimal amount)\n",
    "    {\n",
    "        return amount >= MinAmount;\n",
    "    }\n",
    "\n",
    "    // Метод для получения деталей способа оплаты\n",
    "    public virtual string GetPaymentDetails()\n",
    "    {\n",
    "        return $\"Способ оплаты: {MethodName}, Минимальная сумма: {MinAmount}\";\n",
    "    }\n",
    "}\n",
    "\n",
    "// Производный класс ОнлайнОплата\n",
    "public class OnlinePayment : PaymentMethod\n",
    "{\n",
    "    private string _paymentUrl;\n",
    "\n",
    "    public string PaymentUrl \n",
    "    { \n",
    "        get { return _paymentUrl; } \n",
    "        set { _paymentUrl = value; } \n",
    "    }\n",
    "\n",
    "    public OnlinePayment(int paymentMethodId, string methodName, decimal minAmount, string paymentUrl) \n",
    "        : base(paymentMethodId, methodName, minAmount)\n",
    "    {\n",
    "        PaymentUrl = paymentUrl;\n",
    "    }\n",
    "\n",
    "    // Переопределенный метод ProcessPayment()\n",
    "    public override void ProcessPayment(decimal amount)\n",
    "    {\n",
    "        base.ProcessPayment(amount);\n",
    "        Console.WriteLine($\"Перенаправление на платежную страницу: {PaymentUrl}\");\n",
    "    }\n",
    "}\n",
    "\n",
    "// Производный класс БанковскийПеревод\n",
    "public class BankTransfer : PaymentMethod\n",
    "{\n",
    "    private string _bankData;\n",
    "    private decimal _bankFee;\n",
    "\n",
    "    public string BankData \n",
    "    { \n",
    "        get { return _bankData; } \n",
    "        set { _bankData = value; } \n",
    "    }\n",
    "\n",
    "    public decimal BankFee \n",
    "    { \n",
    "        get { return _bankFee; }\n",
    "                set { _bankFee = value; } \n",
    "    }\n",
    "\n",
    "    public BankTransfer(int paymentMethodId, string methodName, decimal minAmount, string bankData, decimal bankFee)\n",
    "        : base(paymentMethodId, methodName, minAmount)\n",
    "    {\n",
    "        BankData = bankData;\n",
    "        BankFee = bankFee;\n",
    "    }\n",
    "\n",
    "    // Переопределенный метод CheckMinimumAmount()\n",
    "    public override bool CheckMinimumAmount(decimal amount)\n",
    "    {\n",
    "        if (amount < MinAmount + BankFee)\n",
    "        {\n",
    "            Console.WriteLine($\"Сумма платежа меньше минимальной ({MinAmount} + {BankFee})\");\n",
    "            return false;\n",
    "        }\n",
    "        return true;\n",
    "    }\n",
    "\n",
    "    // Переопределенный метод GetPaymentDetails()\n",
    "    public override string GetPaymentDetails()\n",
    "    {\n",
    "        return $\"Способ оплаты: {MethodName}, Минимальная сумма: {MinAmount}, Банковские данные: {BankData}, Комиссия: {BankFee}\";\n",
    "    }\n",
    "}\n",
    "\n",
    "// ОнлайнОплата\n",
    "OnlinePayment onlinePayment = new OnlinePayment(1, \"Онлайн оплата\", 150, \"https://example.payment.com\");\n",
    "onlinePayment.ProcessPayment(200);\n",
    "Console.WriteLine(onlinePayment.GetPaymentDetails()); \n",
    "\n",
    "// БанковскийПеревод\n",
    "BankTransfer bankTransfer = new BankTransfer(2, \"Банковский перевод\", 250, \"Реквизиты: 0123456789\", 10);\n",
    "if (bankTransfer.CheckMinimumAmount(550))\n",
    "{\n",
    "    bankTransfer.ProcessPayment(550);\n",
    "}\n",
    "Console.WriteLine(bankTransfer.GetPaymentDetails()); "
   ]
  }
 ],
 "metadata": {
  "kernelspec": {
   "display_name": ".NET (C#)",
   "language": "C#",
   "name": ".net-csharp"
  },
  "polyglot_notebook": {
   "kernelInfo": {
    "defaultKernelName": "csharp",
    "items": [
     {
      "aliases": [],
      "languageName": "csharp",
      "name": "csharp"
     }
    ]
   }
  }
 },
 "nbformat": 4,
 "nbformat_minor": 2
}
