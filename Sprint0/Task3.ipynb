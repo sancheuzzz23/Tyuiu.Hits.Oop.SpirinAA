{
 "cells": [
  {
   "cell_type": "markdown",
   "metadata": {},
   "source": [
    "<h1 style=\"color:DodgerBlue\">Индивидальный проект</h1>"
   ]
  },
  {
   "cell_type": "markdown",
   "metadata": {},
   "source": [
    "<h2 style=\"color:DodgerBlue\">Название проекта:</h2>\n",
    "\n",
    "----\n",
    "\n",
    "### Вариант задания №16\n"
   ]
  },
  {
   "cell_type": "markdown",
   "metadata": {},
   "source": [
    "<h2 style=\"color:DodgerBlue\">Описание проекта:</h2>\n",
    "\n",
    "----\n",
    "\n",
    "Описание задачи:\n",
    "Создать базовый класс PaymentMethod в C#, который будет представлять\n",
    "различные способы оплаты. На основе этого класса разработать 2-3 производных\n",
    "класса, демонстрирующих принципы наследования и полиморфизма. В каждом из\n",
    "классов должны быть реализованы новые атрибуты и методы, а также\n",
    "переопределены некоторые методы базового класса для демонстрации\n",
    "полиморфизма.\n",
    "\n",
    "Требования к базовому классу PaymentMethod:\n",
    "• Атрибуты: ID способа оплаты (PaymentMethodId), Название способа оплаты\n",
    "(MethodName), Минимальная сумма (MinAmount).\n",
    "\n",
    "• Методы:\n",
    "o ProcessPayment(decimal amount): метод для обработки платежа\n",
    "указанной суммы.\n",
    "o CheckMinimumAmount(decimal amount): метод для проверки\n",
    "минимальной суммы платежа.\n",
    "o GetPaymentDetails(): метод для получения деталей способа оплаты.\n",
    "\n",
    "Требования к производным классам:\n",
    "1. ОнлайнОплата (OnlinePayment): Должен содержать дополнительные\n",
    "атрибуты, такие как URL платежной системы (PaymentUrl).\n",
    "Метод ProcessPayment() должен быть переопределен для включения URL\n",
    "платежной системы в процесс оплаты.\n",
    "2. БанковскийПеревод (BankTransfer): Должен содержать дополнительные\n",
    "атрибуты, такие как Банковские данные (BankData).\n",
    "Метод CheckMinimumAmount() должен быть переопределен для проверки\n",
    "минимальной суммы платежа с учетом банковских комиссий.\n",
    "3. Наличные (CashPayment) (если требуется третий класс): Должен содержать\n",
    "дополнительные атрибуты, такие как Место выдачи наличных\n",
    "(CashPickupPoint). Метод GetPaymentDetails() должен быть переопределен\n",
    "для отображения места выдачи наличных.\n"
   ]
  },
  {
   "cell_type": "markdown",
   "metadata": {},
   "source": [
    "<h2 style=\"color:DodgerBlue\">Реализация:</h2>\n",
    "\n",
    "----"
   ]
  },
  {
   "cell_type": "code",
   "execution_count": 8,
   "metadata": {
    "dotnet_interactive": {
     "language": "csharp"
    },
    "polyglot_notebook": {
     "kernelName": "csharp"
    }
   },
   "outputs": [],
   "source": [
    "using System;\n",
    "\n",
    "// Базовый класс PaymentMethod\n",
    "public class PaymentMethod\n",
    "{\n",
    "    public int PaymentMethodId { get; set; }\n",
    "    public string MethodName { get; set; }\n",
    "    public decimal MinAmount { get; set; }\n",
    "\n",
    "    public PaymentMethod(int paymentMethodId, string methodName, decimal minAmount)\n",
    "    {\n",
    "        PaymentMethodId = paymentMethodId;\n",
    "        MethodName = methodName;\n",
    "        MinAmount = minAmount;\n",
    "    }\n",
    "\n",
    "    public virtual void ProcessPayment(decimal amount)\n",
    "    {\n",
    "        // Логика обработки платежа\n",
    "    }\n",
    "\n",
    "    public virtual bool CheckMinimumAmount(decimal amount)\n",
    "    {\n",
    "        return amount >= MinAmount;\n",
    "    }\n",
    "\n",
    "    public virtual string GetPaymentDetails()\n",
    "    {\n",
    "        return $\"Способ оплаты: {MethodName}, Минимальная сумма: {MinAmount}\";\n",
    "    }\n",
    "}\n",
    "\n",
    "// Производный класс OnlinePayment\n",
    "public class OnlinePayment : PaymentMethod\n",
    "{\n",
    "    public string PaymentUrl { get; set; }\n",
    "\n",
    "    public OnlinePayment(int paymentMethodId, string methodName, decimal minAmount, string paymentUrl) \n",
    "        : base(paymentMethodId, methodName, minAmount)\n",
    "    {\n",
    "        PaymentUrl = paymentUrl;\n",
    "    }\n",
    "\n",
    "    public override void ProcessPayment(decimal amount)\n",
    "    {\n",
    "        // Логика обработки платежа\n",
    "    }\n",
    "}\n",
    "\n",
    "// Производный класс BankTransfer\n",
    "class BankTransfer : PaymentMethod\n",
    "{\n",
    "    public string BankData { get; set; }\n",
    "    private decimal BankFee { get; set; }\n",
    "\n",
    "    public BankTransfer(int paymentMethodId, string methodName, decimal minAmount, string bankData, decimal bankFee)\n",
    "        : base(paymentMethodId, methodName, minAmount)\n",
    "    {\n",
    "        BankData = bankData;\n",
    "        BankFee = bankFee;\n",
    "    }\n",
    "\n",
    "    // Переопределенный метод CheckMinimumAmount()\n",
    "    public override bool CheckMinimumAmount(decimal amount)\n",
    "    {\n",
    "        if (amount < MinAmount + BankFee)\n",
    "        {\n",
    "            return false;\n",
    "        }\n",
    "        return true;\n",
    "    }\n",
    "}\n",
    "\n",
    "// ОнлайнОплата\n",
    "OnlinePayment onlinePayment = new OnlinePayment(1, \"Онлайн оплата\", 150, \"https://example.payment.com\");\n",
    "onlinePayment.ProcessPayment(200);\n",
    "Console.WriteLine(onlinePayment.GetPaymentDetails()); \n",
    "\n",
    "// БанковскийПеревод\n",
    "BankTransfer bankTransfer = new BankTransfer(2, \"Банковский перевод\", 250, \"Реквизиты: 0123456789\", 10);\n",
    "if (bankTransfer.CheckMinimumAmount(550))\n",
    "{\n",
    "  bankTransfer.ProcessPayment(550);\n",
    "}\n",
    "Console.WriteLine(bankTransfer.GetPaymentDetails()); \n",
    "\n"
   ]
  }
 ],
 "metadata": {
  "kernelspec": {
   "display_name": ".NET (C#)",
   "language": "C#",
   "name": ".net-csharp"
  },
  "polyglot_notebook": {
   "kernelInfo": {
    "defaultKernelName": "csharp",
    "items": [
     {
      "aliases": [],
      "languageName": "csharp",
      "name": "csharp"
     }
    ]
   }
  }
 },
 "nbformat": 4,
 "nbformat_minor": 2
}
