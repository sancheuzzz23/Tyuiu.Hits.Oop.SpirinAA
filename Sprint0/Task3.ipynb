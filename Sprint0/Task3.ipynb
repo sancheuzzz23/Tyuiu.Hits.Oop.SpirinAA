{
 "cells": [
  {
   "cell_type": "markdown",
   "metadata": {},
   "source": [
    "<h1 style=\"color:DodgerBlue\">Индивидальный проект</h1>"
   ]
  },
  {
   "cell_type": "markdown",
   "metadata": {},
   "source": [
    "<h2 style=\"color:DodgerBlue\">Название проекта:</h2>\n",
    "\n",
    "----\n",
    "\n",
    "### Вариант задания №16\n"
   ]
  },
  {
   "cell_type": "markdown",
   "metadata": {},
   "source": [
    "<h2 style=\"color:DodgerBlue\">Описание проекта:</h2>\n",
    "\n",
    "----\n",
    "\n",
    "Описание задачи:\n",
    "Создать базовый класс PaymentMethod в C#, который будет представлять\n",
    "различные способы оплаты. На основе этого класса разработать 2-3 производных\n",
    "класса, демонстрирующих принципы наследования и полиморфизма. В каждом из\n",
    "классов должны быть реализованы новые атрибуты и методы, а также\n",
    "переопределены некоторые методы базового класса для демонстрации\n",
    "полиморфизма.\n",
    "\n",
    "Требования к базовому классу PaymentMethod:\n",
    "• Атрибуты: ID способа оплаты (PaymentMethodId), Название способа оплаты\n",
    "(MethodName), Минимальная сумма (MinAmount).\n",
    "\n",
    "• Методы:\n",
    "o ProcessPayment(decimal amount): метод для обработки платежа\n",
    "указанной суммы.\n",
    "o CheckMinimumAmount(decimal amount): метод для проверки\n",
    "минимальной суммы платежа.\n",
    "o GetPaymentDetails(): метод для получения деталей способа оплаты.\n",
    "\n",
    "Требования к производным классам:\n",
    "1. ОнлайнОплата (OnlinePayment): Должен содержать дополнительные\n",
    "атрибуты, такие как URL платежной системы (PaymentUrl).\n",
    "Метод ProcessPayment() должен быть переопределен для включения URL\n",
    "платежной системы в процесс оплаты.\n",
    "2. БанковскийПеревод (BankTransfer): Должен содержать дополнительные\n",
    "атрибуты, такие как Банковские данные (BankData).\n",
    "Метод CheckMinimumAmount() должен быть переопределен для проверки\n",
    "минимальной суммы платежа с учетом банковских комиссий.\n",
    "3. Наличные (CashPayment) (если требуется третий класс): Должен содержать\n",
    "дополнительные атрибуты, такие как Место выдачи наличных\n",
    "(CashPickupPoint). Метод GetPaymentDetails() должен быть переопределен\n",
    "для отображения места выдачи наличных.\n"
   ]
  },
  {
   "cell_type": "markdown",
   "metadata": {},
   "source": [
    "<h2 style=\"color:DodgerBlue\">Реализация:</h2>\n",
    "\n",
    "----"
   ]
  },
  {
   "cell_type": "code",
   "execution_count": 8,
   "metadata": {
    "dotnet_interactive": {
     "language": "csharp"
    },
    "polyglot_notebook": {
     "kernelName": "csharp"
    }
   },
   "outputs": [],
   "source": [
    "using System;\n",
    "\n",
    "// Базовый класс PaymentMethod\n",
    "class PaymentMethod\n",
    "{\n",
    "    public int PaymentMethodId { get; set; }\n",
    "    public string MethodName { get; set; }\n",
    "    public decimal MinAmount { get; set; }\n",
    "\n",
    "    public virtual void ProcessPayment(decimal amount)\n",
    "    {\n",
    "        Console.WriteLine($\"Обработка платежа на сумму {amount} с использованием {MethodName}.\");\n",
    "    }\n",
    "\n",
    "    public virtual bool CheckMinimumAmount(decimal amount)\n",
    "    {\n",
    "        return amount >= MinAmount;\n",
    "    }\n",
    "\n",
    "    public virtual void GetPaymentDetails()\n",
    "    {\n",
    "        Console.WriteLine($\"Способ оплаты: {MethodName}, Минимальная сумма: {MinAmount}\");\n",
    "    }\n",
    "}\n",
    "\n",
    "// Производный класс OnlinePayment\n",
    "class OnlinePayment : PaymentMethod\n",
    "{\n",
    "    public string PaymentUrl { get; set; }\n",
    "\n",
    "    public override void ProcessPayment(decimal amount)\n",
    "    {\n",
    "        Console.WriteLine($\"Обработка онлайн платежа на сумму {amount} с использованием {MethodName}, URL: {PaymentUrl}.\");\n",
    "    }\n",
    "}\n",
    "\n",
    "// Производный класс BankTransfer\n",
    "class BankTransfer : PaymentMethod\n",
    "{\n",
    "    public string BankData { get; set; }\n",
    "\n",
    "    public override bool CheckMinimumAmount(decimal amount)\n",
    "    {\n",
    "        decimal totalAmount = amount * 1.5m; // Добавляем банковскую комиссию\n",
    "        return totalAmount >= MinAmount;\n",
    "    }\n",
    "}\n",
    "\n",
    "class Program\n",
    "{\n",
    "    static void Head()\n",
    "    {\n",
    "        PaymentMethod payment1 = new OnlinePayment\n",
    "        {\n",
    "            PaymentMethodId = 1,\n",
    "            MethodName = \"Кредитная карта\",\n",
    "            MinAmount = 10,\n",
    "            PaymentUrl = \"https://paymentprovider.com\"\n",
    "        };\n",
    "\n",
    "        PaymentMethod payment2 = new BankTransfer\n",
    "        {\n",
    "            PaymentMethodId = 2,\n",
    "            MethodName = \"Банковский перевод\",\n",
    "            MinAmount = 100,\n",
    "            BankData = \"Номер банковского счета: 123456789\"\n",
    "        };\n",
    "\n",
    "        payment1.ProcessPayment(50);\n",
    "        payment2.ProcessPayment(80);\n",
    "\n",
    "        bool isValidAmount1 = payment1.CheckMinimumAmount(20);\n",
    "        bool isValidAmount2 = payment2.CheckMinimumAmount(90);\n",
    "\n",
    "        Console.WriteLine($\"Действительна ли сумма для оплаты 1? {isValidAmount1}\");\n",
    "        Console.WriteLine($\"Действительна ли сумма для оплаты 2? {isValidAmount2}\");\n",
    "\n",
    "        payment1.GetPaymentDetails();\n",
    "        payment2.GetPaymentDetails();\n",
    "    }\n",
    "}\n",
    "int a;"
   ]
  }
 ],
 "metadata": {
  "kernelspec": {
   "display_name": ".NET (C#)",
   "language": "C#",
   "name": ".net-csharp"
  },
  "polyglot_notebook": {
   "kernelInfo": {
    "defaultKernelName": "csharp",
    "items": [
     {
      "aliases": [],
      "languageName": "csharp",
      "name": "csharp"
     }
    ]
   }
  }
 },
 "nbformat": 4,
 "nbformat_minor": 2
}
